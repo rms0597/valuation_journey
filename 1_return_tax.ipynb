{
 "cells": [
  {
   "cell_type": "code",
   "execution_count": 2,
   "metadata": {},
   "outputs": [],
   "source": [
    "## Importing packages\n",
    "\n",
    "import datetime\n",
    "import numpy as np\n",
    "import pandas as pd\n",
    "import yfinance as yf\n",
    "\n",
    "from sklearn.linear_model import LinearRegression"
   ]
  },
  {
   "cell_type": "code",
   "execution_count": 47,
   "metadata": {},
   "outputs": [],
   "source": [
    "## Index and ticker\n",
    "\n",
    "ticker = 'GGBR4.SA'\n",
    "index = '^BVSP'"
   ]
  },
  {
   "cell_type": "code",
   "execution_count": 48,
   "metadata": {},
   "outputs": [],
   "source": [
    "## Time frame\n",
    "\n",
    "start_date = datetime.datetime(2018, 7, 9)\n",
    "end_date = datetime.datetime(2022, 7, 9)\n"
   ]
  },
  {
   "cell_type": "code",
   "execution_count": 49,
   "metadata": {},
   "outputs": [],
   "source": [
    "## Retireving ticker and index information\n",
    "\n",
    "ticker_data = yf.Ticker(ticker)\n",
    "index_data = yf.Ticker(index)"
   ]
  },
  {
   "cell_type": "code",
   "execution_count": 50,
   "metadata": {},
   "outputs": [
    {
     "data": {
      "text/html": [
       "<div>\n",
       "<style scoped>\n",
       "    .dataframe tbody tr th:only-of-type {\n",
       "        vertical-align: middle;\n",
       "    }\n",
       "\n",
       "    .dataframe tbody tr th {\n",
       "        vertical-align: top;\n",
       "    }\n",
       "\n",
       "    .dataframe thead th {\n",
       "        text-align: right;\n",
       "    }\n",
       "</style>\n",
       "<table border=\"1\" class=\"dataframe\">\n",
       "  <thead>\n",
       "    <tr style=\"text-align: right;\">\n",
       "      <th></th>\n",
       "      <th>Date</th>\n",
       "      <th>Close</th>\n",
       "      <th>GGBR4.SA_daily_return</th>\n",
       "    </tr>\n",
       "  </thead>\n",
       "  <tbody>\n",
       "    <tr>\n",
       "      <th>1</th>\n",
       "      <td>2018-07-11</td>\n",
       "      <td>12.243563</td>\n",
       "      <td>-0.023606</td>\n",
       "    </tr>\n",
       "    <tr>\n",
       "      <th>2</th>\n",
       "      <td>2018-07-12</td>\n",
       "      <td>12.909600</td>\n",
       "      <td>0.054399</td>\n",
       "    </tr>\n",
       "    <tr>\n",
       "      <th>3</th>\n",
       "      <td>2018-07-13</td>\n",
       "      <td>12.753368</td>\n",
       "      <td>-0.012102</td>\n",
       "    </tr>\n",
       "    <tr>\n",
       "      <th>4</th>\n",
       "      <td>2018-07-16</td>\n",
       "      <td>12.934265</td>\n",
       "      <td>0.014184</td>\n",
       "    </tr>\n",
       "    <tr>\n",
       "      <th>5</th>\n",
       "      <td>2018-07-17</td>\n",
       "      <td>13.287841</td>\n",
       "      <td>0.027336</td>\n",
       "    </tr>\n",
       "  </tbody>\n",
       "</table>\n",
       "</div>"
      ],
      "text/plain": [
       "        Date      Close  GGBR4.SA_daily_return\n",
       "1 2018-07-11  12.243563              -0.023606\n",
       "2 2018-07-12  12.909600               0.054399\n",
       "3 2018-07-13  12.753368              -0.012102\n",
       "4 2018-07-16  12.934265               0.014184\n",
       "5 2018-07-17  13.287841               0.027336"
      ]
     },
     "execution_count": 50,
     "metadata": {},
     "output_type": "execute_result"
    }
   ],
   "source": [
    "## GGBR4 daily returns\n",
    "\n",
    "ticker_historical_price = ticker_data.history(start=start_date, end=end_date).reset_index()\n",
    "ticker_historical_price = ticker_historical_price[['Date', 'Close']]\n",
    "ticker_historical_price[ticker + '_daily_return'] = ticker_historical_price['Close'].pct_change(1)\n",
    "ticker_historical_price = ticker_historical_price.dropna()\n",
    "ticker_historical_price.head()\n"
   ]
  },
  {
   "cell_type": "code",
   "execution_count": 51,
   "metadata": {},
   "outputs": [
    {
     "data": {
      "text/html": [
       "<div>\n",
       "<style scoped>\n",
       "    .dataframe tbody tr th:only-of-type {\n",
       "        vertical-align: middle;\n",
       "    }\n",
       "\n",
       "    .dataframe tbody tr th {\n",
       "        vertical-align: top;\n",
       "    }\n",
       "\n",
       "    .dataframe thead th {\n",
       "        text-align: right;\n",
       "    }\n",
       "</style>\n",
       "<table border=\"1\" class=\"dataframe\">\n",
       "  <thead>\n",
       "    <tr style=\"text-align: right;\">\n",
       "      <th></th>\n",
       "      <th>Date</th>\n",
       "      <th>Close</th>\n",
       "      <th>^BVSP_daily_return</th>\n",
       "    </tr>\n",
       "  </thead>\n",
       "  <tbody>\n",
       "    <tr>\n",
       "      <th>1</th>\n",
       "      <td>2018-07-11</td>\n",
       "      <td>74399.0</td>\n",
       "      <td>-0.006185</td>\n",
       "    </tr>\n",
       "    <tr>\n",
       "      <th>2</th>\n",
       "      <td>2018-07-12</td>\n",
       "      <td>75856.0</td>\n",
       "      <td>0.019584</td>\n",
       "    </tr>\n",
       "    <tr>\n",
       "      <th>3</th>\n",
       "      <td>2018-07-13</td>\n",
       "      <td>76594.0</td>\n",
       "      <td>0.009729</td>\n",
       "    </tr>\n",
       "    <tr>\n",
       "      <th>4</th>\n",
       "      <td>2018-07-16</td>\n",
       "      <td>76653.0</td>\n",
       "      <td>0.000770</td>\n",
       "    </tr>\n",
       "    <tr>\n",
       "      <th>5</th>\n",
       "      <td>2018-07-17</td>\n",
       "      <td>78130.0</td>\n",
       "      <td>0.019269</td>\n",
       "    </tr>\n",
       "  </tbody>\n",
       "</table>\n",
       "</div>"
      ],
      "text/plain": [
       "        Date    Close  ^BVSP_daily_return\n",
       "1 2018-07-11  74399.0           -0.006185\n",
       "2 2018-07-12  75856.0            0.019584\n",
       "3 2018-07-13  76594.0            0.009729\n",
       "4 2018-07-16  76653.0            0.000770\n",
       "5 2018-07-17  78130.0            0.019269"
      ]
     },
     "execution_count": 51,
     "metadata": {},
     "output_type": "execute_result"
    }
   ],
   "source": [
    "## Ibovespa daily returns\n",
    "\n",
    "index_historical_price = index_data.history(start=start_date, end=end_date).reset_index()\n",
    "index_historical_price = index_historical_price[['Date', 'Close']]\n",
    "index_historical_price[index + '_daily_return'] = index_historical_price['Close'].pct_change(1)\n",
    "index_historical_price = index_historical_price.dropna()\n",
    "index_historical_price.head()\n"
   ]
  },
  {
   "cell_type": "code",
   "execution_count": 52,
   "metadata": {},
   "outputs": [
    {
     "name": "stdout",
     "output_type": "stream",
     "text": [
      "[1.13721496]\n"
     ]
    }
   ],
   "source": [
    "## Leveraged beta\n",
    "\n",
    "y = np.array(ticker_historical_price['GGBR4.SA_daily_return'])\n",
    "x = np.array(index_historical_price['^BVSP_daily_return']).reshape((-1, 1))\n",
    "\n",
    "model = LinearRegression()\n",
    "model.fit(x, y)\n",
    "\n",
    "leveraged_beta = model.coef_\n",
    "print(leveraged_beta)\n"
   ]
  },
  {
   "cell_type": "code",
   "execution_count": 53,
   "metadata": {},
   "outputs": [
    {
     "name": "stdout",
     "output_type": "stream",
     "text": [
      "0.32222 [0.93778147]\n"
     ]
    }
   ],
   "source": [
    "## Unleveraged beta\n",
    "\n",
    "debt_to_equity = ticker_data.info['debtToEquity']/100\n",
    "tax_rate = 0.34\n",
    "unleveraged_beta = leveraged_beta/(1+debt_to_equity*(1-tax_rate))\n",
    "print(debt_to_equity, unleveraged_beta)\n"
   ]
  },
  {
   "cell_type": "code",
   "execution_count": 6,
   "metadata": {},
   "outputs": [
    {
     "name": "stdout",
     "output_type": "stream",
     "text": [
      "1097    0.1285\n",
      "Name: Taxa Compra Manha, dtype: float64\n"
     ]
    }
   ],
   "source": [
    "## Risk-free tax\n",
    "\n",
    "def busca_titulos_tesouro_direto():\n",
    "  url = 'https://www.tesourotransparente.gov.br/ckan/dataset/df56aa42-484a-4a59-8184-7676580c81e3/resource/796d2059-14e9-44e3-80c9-2d9e30b405c1/download/PrecoTaxaTesouroDireto.csv'\n",
    "  df = pd.read_csv(url, sep=';', decimal=',')\n",
    "  df['Data Vencimento'] = pd.to_datetime(df['Data Vencimento'], dayfirst=True)\n",
    "  df['Data Base'] = pd.to_datetime(df['Data Base'], dayfirst=True)\n",
    "  multi_indice = pd.MultiIndex.from_frame(df.iloc[:, :3])\n",
    "  df = df.set_index(multi_indice).iloc[:, 3:]\n",
    "  return df\n",
    "\n",
    "\n",
    "titulos = busca_titulos_tesouro_direto()\n",
    "titulos.sort_index(inplace=True)\n",
    "\n",
    "tesouro_pre_2025 = titulos.loc[('Tesouro Prefixado', '2025-01-01')].reset_index()\n",
    "risk_free_tax = tesouro_pre_2025[tesouro_pre_2025['Data Base'] == tesouro_pre_2025['Data Base'].max()]['Taxa Compra Manha']/100\n",
    "print(risk_free_tax)\n"
   ]
  },
  {
   "cell_type": "code",
   "execution_count": 54,
   "metadata": {},
   "outputs": [],
   "source": [
    "## Market return\n",
    "\n",
    "premium = 0.05\n",
    "market_return = risk_free_tax + premium\n"
   ]
  },
  {
   "cell_type": "code",
   "execution_count": 55,
   "metadata": {},
   "outputs": [
    {
     "name": "stdout",
     "output_type": "stream",
     "text": [
      "1097    0.185361\n",
      "Name: Taxa Compra Manha, dtype: float64\n"
     ]
    }
   ],
   "source": [
    "## Discount rate\n",
    "\n",
    "discount_rate = risk_free_tax + leveraged_beta*(market_return-risk_free_tax)\n",
    "print(discount_rate)"
   ]
  },
  {
   "cell_type": "code",
   "execution_count": null,
   "metadata": {},
   "outputs": [],
   "source": []
  }
 ],
 "metadata": {
  "interpreter": {
   "hash": "bd0d736d6e076cb95c012c41d790fbde600e3964690799ff09e24692704eea96"
  },
  "kernelspec": {
   "display_name": "Python 3.8.8 64-bit ('venv': venv)",
   "language": "python",
   "name": "python3"
  },
  "language_info": {
   "codemirror_mode": {
    "name": "ipython",
    "version": 3
   },
   "file_extension": ".py",
   "mimetype": "text/x-python",
   "name": "python",
   "nbconvert_exporter": "python",
   "pygments_lexer": "ipython3",
   "version": "3.8.8"
  },
  "orig_nbformat": 4
 },
 "nbformat": 4,
 "nbformat_minor": 2
}
